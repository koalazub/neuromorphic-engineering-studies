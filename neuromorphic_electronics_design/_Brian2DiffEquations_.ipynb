{
 "cells": [
  {
   "cell_type": "code",
   "execution_count": 1,
   "metadata": {
    "ExecuteTime": {
     "end_time": "2025-03-25T03:32:48.012352Z",
     "start_time": "2025-03-25T03:32:47.204133Z"
    },
    "colab": {
     "base_uri": "https://localhost:8080/"
    },
    "id": "oqJxDTrVBwEc",
    "outputId": "8c6a91d4-77ba-4bda-daf3-f70376f2e9dd",
    "tags": []
   },
   "outputs": [
    {
     "name": "stdout",
     "output_type": "stream",
     "text": [
      "zsh:1: command not found: pip\n",
      "zsh:1: command not found: pip\n",
      "zsh:1: command not found: pip\n",
      "zsh:1: command not found: pip\n",
      "zsh:1: command not found: pip\n",
      "zsh:1: command not found: pip\n",
      "zsh:1: command not found: pip\n"
     ]
    }
   ],
   "source": [
    "!pip install pandas -q\n",
    "!pip install brian2 -q\n",
    "!pip install plotly -q\n",
    "!pip install ipywidgets -q\n",
    "!pip install allensdk -q\n",
    "!pip install quantities -q\n",
    "!pip install neo -q"
   ]
  },
  {
   "cell_type": "code",
   "execution_count": null,
   "metadata": {},
   "outputs": [],
   "source": []
  },
  {
   "cell_type": "code",
   "execution_count": null,
   "metadata": {
    "id": "MTBKLBg-6nps"
   },
   "outputs": [],
   "source": [
    "import os\n",
    "if not os.path.exists(\"neurpynamics\"):\n",
    "  os.system(\"git clone https://github.com/DiGyt/neuropynamics/\")\n"
   ]
  },
  {
   "cell_type": "code",
   "execution_count": null,
   "metadata": {
    "id": "xAPxUdZMBwEf"
   },
   "outputs": [],
   "source": [
    "from brian2 import *\n",
    "import quantities as qt\n",
    "import plotly\n",
    "from brian2 import NeuronGroup, SpikeMonitor, StateMonitor, run\n",
    "from brian2.units import ms\n",
    "import plotly.express as px\n",
    "import pandas as pd\n",
    "import matplotlib.pyplot as plt\n",
    "import os\n",
    "from plotly.subplots import make_subplots\n",
    "import plotly.graph_objects as go\n",
    "import numpy as np\n",
    "# Brian2 package\n",
    "# Unit definitions\n",
    "from brian2 import mV, ms, volt, second, umetre, ufarad, siemens, cm, msiemens, amp, uA, nA\n",
    "# Other stuff\n",
    "from brian2 import start_scope, NeuronGroup, StateMonitor, SpikeMonitor, run\n",
    "# Plotting stuff\n",
    "from brian2.units import mohm,nF, Mohm,ufarad,umetre,nS\n",
    "\n",
    "\n",
    "from neuropynamics.src.utils.plotting import plot_single_neuron\n",
    "# Interactive widgets\n",
    "import ipywidgets as widgets\n",
    "from ipywidgets import interact, interactive, fixed, HBox, VBox, Layout\n",
    "from allensdk.core.cell_types_cache import CellTypesCache\n",
    "import matplotlib.pyplot as plt\n",
    "import neo\n",
    "import quantities as qt\n",
    "\n",
    "#widget configurations:\n",
    "\n",
    "# Set button layout\n",
    "button_layout = Layout(width='180px', height='30px')\n",
    "\n",
    "# Set slider config\n",
    "slider_total_width = '800px'\n",
    "slider_desc_width = '200px'"
   ]
  },
  {
   "cell_type": "markdown",
   "metadata": {
    "id": "LHgi7QQVIl2X"
   },
   "source": [
    "<!--# From Neuromatch academy:\n",
    "\n",
    "In the next exercises, we will simulate the evolution of the membrane equation in discrete time steps, with a sufficiently small $\\Delta t$.\n",
    "-->\n",
    "\n",
    "We can write the time derivative $ \\frac{dV(t)}{dt}$ in the membrane equation without taking the limit $\\Delta t \\to 0$:\n",
    "\n",
    "\\begin{eqnarray}\n",
    " \\tau_{m} \\frac{dV}{dt} = - [V(t)-E_{L}] +RI(t)\n",
    "\\end{eqnarray}\n",
    "\n",
    "<!--\n",
    "\\begin{align*}\n",
    "\\\\\n",
    "\\tau_m\\,\\frac{V\\left(t+\\Delta t\\right)-V\\left(t\\right)}{\\Delta t} &= E_{L} - V(t) + R\\,I(t) \\qquad\\qquad (1)\\\\\n",
    "\\\\\n",
    "\\end{align*}\n",
    "-->\n",
    "<summary> </summary>\n",
    "\n",
    "<details>  \n",
    "The value of membrane potential $V\\left(t+\\Delta t\\right)$ can be expressed in terms of its previous value $V(t)$ by simple algebraic manipulation.\n",
    "\n",
    "For **small enough* *values of $\\Delta t$, this provides a good approximation of the continuous-time integration.\n",
    "</details>\n",
    "<!--\n",
    "<summary> </summary>\n",
    "\n",
    "<details>  \n",
    "\n",
    "This operation is an integration since we obtain a sequence $\\{V(t), V(t+\\Delta t), V(t+2\\Delta t),...\\}$ starting from the ODE. Notice how the ODE describes the evolution of $\\frac{d}{dt}\\,V(t)$, the derivative of $V(t)$, but not directly the evolution of $V(t)$. For the evolution of $V(t)$ we need to integrate the ODE, and in this tutorial, we will do a discrete-time integration using the Euler method. See [Numerical methods for ordinary differential equations](https://en.wikipedia.org/wiki/Numerical_methods_for_ordinary_differential_equations) for additional details.\n",
    "\n",
    "</details>\n",
    "-->\n",
    "\n"
   ]
  },
  {
   "cell_type": "markdown",
   "metadata": {
    "id": "jj8IlShNvNXo"
   },
   "source": [
    "\n",
    "### <summary> Recall that $\\Delta V$ is a small change in voltage. $\\Delta t$ a small change in t </summary>\n",
    "\n",
    "<details>\n",
    "<h1 align=\"center\">\n",
    "\n",
    "  <img src=\"https://github.com/russelljjarvis/LIF_DE_Brian2/blob/main/other_lecture/compartments/avroc.png?raw=1\" width=\"450\" height=\"350\" />\n",
    "</h1>\n",
    "</details>\n",
    "\n",
    "We start by writing the time derivative $ \\frac{dV(t)}{dt}$ in the membrane equation without taking the limit $\\Delta t \\to 0$:\n",
    "\n",
    "<!--\n",
    "* Explain with Picture Firing rate.\n",
    "* Why use tau to for implementing LIF in IC.\n",
    "-->"
   ]
  },
  {
   "cell_type": "markdown",
   "metadata": {
    "id": "lk3Av349I72x"
   },
   "source": [
    "<!--# From Neuromatch academy:\n",
    "\n",
    "# Simulating membrane potential\n",
    "Compute the values of $V(t)$ between $t=0$ and $t=0.01$ with step $\\Delta t=0.001$ and $V(0)=E_L$.\n",
    "\n",
    "\n",
    "We need to reorganize the Eq. (1) to isolate $V\\left(t+\\Delta t\\right)$ on the left side, and express it as function of $V(t)$ and the other terms:\n",
    "\n",
    "$$V(t + \\Delta t) =  V(t) + \\frac{\\Delta t}{\\tau_m}(E_l -V(t) + R I(t))$$\n",
    "-->\n"
   ]
  },
  {
   "cell_type": "markdown",
   "metadata": {
    "id": "7YAbd1i3BwEc"
   },
   "source": [
    "\n",
    "<!--\n",
    "$\n",
    "\\begin{eqnarray}\n",
    " \\tau_{m} \\frac{dV}{dt} = - [V(t)-V_{L}] +RI(t)\n",
    " \\end{eqnarray}\n",
    "(1.5)\n",
    "$\n",
    "For example: $\\Delta t$ = 0.25ms\n",
    "\n",
    "If we have a time-grid of of stepsize $\\Delta t$.\n",
    "\n",
    "$V_{n} = V(t=n)$\n",
    "\n",
    "\\begin{eqnarray}\n",
    "\\tau_m \\frac{\\Delta V_n}{\\Delta t} &=& -(V_n-V_L) +\\frac{I_n}{g_L},\n",
    "\\end{eqnarray}\n",
    "\n",
    "where $V_n = V(n\\Delta t)$, and $I_n=I(n\\Delta t)$.\n",
    "\n",
    "Then the updating process of $V_{n+1}$ at time $t_{n+1}=(n+1)\\Delta t$ based on $V_{n}$ can be formed as\n",
    "-->\n",
    "\\begin{eqnarray}\n",
    " \\tau_{m} \\frac{dV}{dt} = - [V(t)-V_{L}] +RI(t)\n",
    " \\end{eqnarray}\n",
    "\n",
    "### Try to implement in code:\n",
    "\\begin{eqnarray}\n",
    "\\Delta V_n &=&  \\left(-(V_n-V_L) +\\frac{I_{n}}{g_L}\\right)\\frac{\\Delta t}{\\tau_m} \\\\\n",
    "V_{n+1} &=& V_n+ \\Delta V_n \\\\\n",
    "\\end{eqnarray}\n",
    "\n",
    "\n"
   ]
  },
  {
   "cell_type": "markdown",
   "metadata": {
    "id": "UKuTYRaDIK8X"
   },
   "source": [
    "# Now an executable model in code:\n",
    "I have deliberately left some code out as an exercise for students."
   ]
  },
  {
   "cell_type": "code",
   "execution_count": null,
   "metadata": {
    "id": "jBd83q1wS_HU",
    "tags": []
   },
   "outputs": [],
   "source": [
    "def forward_euler(simulation_samples, V_reset, V_init, E_L, refrac_time, dt, Iinj, tau_m, g_L, V_th):\n",
    "    \"\"\"\n",
    "    Simulate the LIF dynamics with external input current\n",
    "\n",
    "    Returns: membrane potential v, and spike train spikes_monitor.\n",
    "\n",
    "    \"\"\"\n",
    "    # Initialisations\n",
    "    v = np.zeros(simulation_samples) * np.nan\n",
    "    v[0] = V_init\n",
    "    spikes_monitor = []\n",
    "    refrac_timer = 0\n",
    "\n",
    "    for n in range(1, simulation_samples):\n",
    "        if refrac_timer > 0:  # check if in refractory period\n",
    "            v[n] = V_reset  # set voltage to reset\n",
    "            refrac_timer = refrac_timer - 1 # reduce running counter of refractory period\n",
    "\n",
    "        elif v[n-1] >= V_th:  # if voltage over threshold\n",
    "            spikes_monitor.append(n)  # record spike event\n",
    "            v[n] = V_reset  # reset voltage\n",
    "            refrac_timer = refrac_time / dt  # set refractory timer\n",
    "        else:\n",
    "            '''\n",
    "            Try to implement forward Euler in code here.\n",
    "            '''\n",
    "\n",
    "\n",
    "\n",
    "    # Update the membrane potential\n",
    "    # Get spike times in ms\n",
    "    spikes_monitor = np.array(spikes_monitor) * dt\n",
    "\n",
    "    return (v, spikes_monitor)"
   ]
  },
  {
   "cell_type": "markdown",
   "metadata": {
    "id": "lISqrHvjasd2"
   },
   "source": [
    "\n",
    "# <summary>Code Hint 1</summary>\n",
    "<details>\n",
    "\n",
    "Something in the form of:\n",
    "\n",
    "```python\n",
    "      dv = ...\n",
    "      v[n + 1] = ...\n",
    "\n",
    "```\n",
    "</details>\n",
    "\n",
    "# <summary>Code Hint 2</summary>\n",
    "<details>\n",
    "\n",
    "```python\n",
    "      f_n = (-(v[...]-...) + (Iinj[...]/...))*.../...)\n",
    "      v[n + 1] = v[n] + ...\n",
    "\n",
    "```\n",
    "</details>\n",
    "\n",
    "# <summary>Code Hint 3</summary>\n",
    "\n",
    "\n",
    "<details>\n",
    "\n",
    "#### <summary>Dont give up you might be close!</summary>\n",
    "<details>\n",
    "\n",
    "```python\n",
    "f_n = (-(v[n-1]-E_L) + (Iinj[n-1]/g_L))*1.0/tau_m\n",
    "v[n] = v[n-1] + dt * f_n\n",
    "\n",
    "\n",
    "```    \n",
    "\n",
    "or\n",
    "```python\n",
    "v[n] = (1 - dt/tau_m)*v[n-1] + dt/tau_m*(E_L + 1/g_L*Iinj[n-1])\n",
    "```\n",
    "</details>\n",
    "\n",
    "</details>"
   ]
  },
  {
   "cell_type": "code",
   "execution_count": null,
   "metadata": {
    "id": "36aIHhmDRtQX"
   },
   "outputs": [],
   "source": [
    "def run_LIF(pars, Iinj, square_pulse=True):\n",
    "  \"\"\"\n",
    "  Simulate the LIF dynamics with external input current\n",
    "  Args:\n",
    "    pars       : parameter dictionary\n",
    "    Iinj       : input current [pA]. The injected current here can be a value\n",
    "                 or an array\n",
    "    stop       : boolean. If True, use a current pulse\n",
    "  Returns:\n",
    "    v              : membrane potential\n",
    "    spikes_monitor : spike times\n",
    "    pars           : dictionary with parameters\n",
    "  \"\"\"\n",
    "\n",
    "  # Set parameters\n",
    "  V_th, V_reset = pars['V_th'], pars['V_reset']\n",
    "  tau_m, g_L = pars['tau_m'], pars['g_L']\n",
    "  V_init, E_L = pars['V_init'], pars['E_L']\n",
    "  dt, range_t = pars['dt'], pars['range_t']\n",
    "  simulation_samples = range_t.size\n",
    "  refrac_time = pars['tref']\n",
    "\n",
    "  # Set current time course\n",
    "  Iinj = float(Iinj) * np.ones(simulation_samples)\n",
    "\n",
    "  # If current pulse, set beginning and end to 0\n",
    "  if square_pulse:\n",
    "    Iinj[:int(len(Iinj) / 2) - 1000] = 0\n",
    "    Iinj[int(len(Iinj) / 2) + 1000:] = 0\n",
    "\n",
    "\n",
    "  # Loop over time\n",
    "  (v, spikes_monitor) = forward_euler(simulation_samples, V_reset, V_init, E_L, refrac_time, dt, Iinj, tau_m, g_L, V_th)\n",
    "  pars['Iinj'] =  Iinj\n",
    "  return (v, spikes_monitor, pars)"
   ]
  },
  {
   "cell_type": "code",
   "execution_count": null,
   "metadata": {
    "id": "muBMo_1ogPoq"
   },
   "outputs": [],
   "source": [
    "def default_pars(**kwargs):\n",
    "  '''\n",
    "  A dictionary is like a lookup table.\n",
    "  Values are retrieved from the dictionary on the basis of keys.\n",
    "\n",
    "  It is useful to store model parameters in a dictionary which can be altered as necessary.\n",
    "  '''\n",
    "\n",
    "  pars = {}\n",
    "\n",
    "  # typical neuron parameters#\n",
    "  pars['V_th'] = -55.#*qt.mV     # spike threshold [mV]\n",
    "  pars['V_reset'] = -75.#*qt.mV  # reset potential [mV]\n",
    "  pars['tau_m'] = 10.#*qt.ms     # membrane time constant [ms]\n",
    "  pars['g_L'] = 10.#*qt.nS       # leak conductance [nS]\n",
    "  pars['V_init'] = -75.#*qt.mV   # initial potential [mV]\n",
    "  pars['E_L'] = -75.#*qt.mV      # leak reversal potential [mV]\n",
    "  pars['tref'] = 2.#*qt.ms       # refractory time (ms)\n",
    "\n",
    "  # simulation parameters #\n",
    "  pars['T'] = 440.#*qt.ms  # Total duration of simulation [ms]\n",
    "  pars['dt'] = .1#*qt.ms   # Simulation time step [ms]\n",
    "\n",
    "  # external parameters if any #\n",
    "  for k in kwargs:\n",
    "    pars[k] = kwargs[k]\n",
    "\n",
    "  pars['range_t'] = np.arange(0, pars['T'], pars['dt'])  # Vector of discretized time points [ms]\n",
    "\n",
    "  return pars"
   ]
  },
  {
   "cell_type": "code",
   "execution_count": null,
   "metadata": {
    "id": "zcxmRzgLgZu_"
   },
   "outputs": [],
   "source": [
    "def plot_volt_trace(pars, v, sp):\n",
    "    \"\"\"\n",
    "    Plot trajetory of membrane potentia looplifting enabled because Function \"solve_vm\" failed type inference due to: cannot determine Numba type of <class 'numba.core.dispatcher.LiftedLoop'>\n",
    "\n",
    "\n",
    "    Expects:\n",
    "    pars   : parameter dictionary\n",
    "    v      : volt trajetory\n",
    "    sp     : spike train\n",
    "\n",
    "    Returns:\n",
    "    figure of the membrane potential trajetory for a single neuron\n",
    "    \"\"\"\n",
    "\n",
    "\n",
    "    V_th = pars['V_th']\n",
    "    dt, range_t = pars['dt'], pars['range_t']\n",
    "\n",
    "    ##\n",
    "    # code to draw spikes for cosmetic reasons.\n",
    "    ##\n",
    "    if sp.size:\n",
    "      sp_num = (sp / dt).astype(int) - 1\n",
    "      v[sp_num] += 20  # draw nicer spikes\n",
    "\n",
    "\n",
    "\n",
    "    fig = make_subplots(rows=4, cols=1)\n",
    "\n",
    "    fig.append_trace(go.Scatter(\n",
    "        x=pars['range_t'],\n",
    "        y=pars['Iinj'],\n",
    "        name=\"Current Injection (pA)\",\n",
    "    ), row=1, col=1)\n",
    "\n",
    "    fig.append_trace(go.Scatter(\n",
    "        x=pars['range_t'],\n",
    "        y=v,\n",
    "        name=\"Membrane Potential (mV) in response to current\",\n",
    "    ), row=2, col=1)#)\n",
    "    fig.update_layout(height=900, width=900, title_text=\"somatic response to current injection\")\n",
    "\n",
    "    fig.show()\n",
    "    return v\n",
    "\n"
   ]
  },
  {
   "cell_type": "markdown",
   "metadata": {
    "id": "DctmkopsLwxR"
   },
   "source": [
    "<!--<summary> Hint to make a ramp current </summary>\n",
    "\n",
    "</details>\n",
    "\n",
    "```python\n",
    "  for index,_ in enumerate(Iinj):\n",
    "    Iinj[index] = index/10.0\n",
    "```\n",
    "\n",
    "</details>\n",
    "-->"
   ]
  },
  {
   "cell_type": "markdown",
   "metadata": {
    "id": "dlR11q4qBwEe"
   },
   "source": [
    "# Step Towards Interactive Code"
   ]
  },
  {
   "cell_type": "code",
   "execution_count": null,
   "metadata": {
    "colab": {
     "base_uri": "https://localhost:8080/",
     "height": 917
    },
    "id": "nHasLVuD0Hnj",
    "outputId": "09136d53-1586-45cd-b7a1-c7090341c56e"
   },
   "outputs": [],
   "source": [
    "pars = default_pars()\n",
    "I_dc = 210\n",
    "v, sp, pars = run_LIF(pars, Iinj=I_dc)\n",
    "v = plot_volt_trace(pars, v, sp)"
   ]
  },
  {
   "cell_type": "markdown",
   "metadata": {
    "id": "H1ZeWHp3BwEg"
   },
   "source": [
    "# Second easy way to simulate the LIF model\n",
    "\n",
    " First we will simulate a LIF neuron\n",
    "the easy way using Brian2, so we know we have something to compare with\n"
   ]
  },
  {
   "cell_type": "markdown",
   "metadata": {
    "id": "JwWSKZIjBwEg"
   },
   "source": [
    "\\begin{eqnarray}\n",
    " \\tau_{m} \\frac{dV}{dt} = - [V(t)-E_{L}] +\\frac{I(t)}{g_{L}}\n",
    " \\end{eqnarray}\n",
    "\n",
    "\\begin{eqnarray}\n",
    "\\frac{dV}{dt} = \\left(\\left[E_{L}-V(t)\\right] +\\frac{I(t)}{g_{L}}\\right)\\left(\\frac{1}{\\tau_{m}}\\right)\n",
    " \\end{eqnarray}"
   ]
  },
  {
   "cell_type": "code",
   "execution_count": null,
   "metadata": {
    "id": "Bp06vo8JBwEg",
    "tags": []
   },
   "outputs": [],
   "source": [
    "\n",
    "def create_lif_neuron(theta):\n",
    "    \"\"\"Creates a brian2 NeuronGroup that contains a single leaky integrate-and-fire neuron\n",
    "    # Define differential equation for leaky integrate-and-fire neuron\n",
    "    give students minutes to derive this line\n",
    "    Note: for each line of the differential equation in Brian2, a Unit belongs to the whole equation, not\n",
    "    to the expression being evaluated. In our case solving dv/dt means integrating and finding an expression for v.\n",
    "    https://brian2.readthedocs.io/en/stable/introduction/brian1_to_2/library.html\n",
    "    # Code approach borrowed from here:\n",
    "    https://colab.research.google.com/github/DiGyt/neuropynamics/blob/master/notebooks/Single_neurons.ipynb#scrollTo=-BMn7Gi5EWGn\n",
    "    \"\"\"\n",
    "    eqs = '''\n",
    "    '''\n",
    "    # Define reset function\n",
    "    reset = 'v = {}*mV'.format(theta-25)\n",
    "    # Define threshold\n",
    "    threshold = 'v > {}*mV'.format(theta)\n",
    "    return NeuronGroup(1, eqs, threshold = threshold, reset = reset, method='euler')\n",
    "\n"
   ]
  },
  {
   "cell_type": "markdown",
   "metadata": {
    "id": "k2r3_AD5hOqz"
   },
   "source": [
    "<!--\n",
    "    eqs = '''   \n",
    "        dv/dt = ((El - v) + I)/tau : volt\n",
    "        \n",
    "        I : volt\n",
    "        '''\n",
    "\n",
    "\n",
    "THe term RI(t) is a voltage due to Ohms law.\n",
    "\n",
    "is all encompoased in I=RI(t)\n",
    "\n",
    "-->\n",
    "\n",
    "\n",
    "\n",
    "## <summary> brian2 code hint 1</summary>\n",
    "\n",
    "<details>\n",
    "\n",
    "``` python\n",
    "    eqs =    \n",
    "    dv/dt = ... : volt\n",
    "    I = ... : volt\n",
    "\n",
    "```\n",
    "</details>\n",
    "\n",
    "## <summary> brian2 code hint 2</summary>\n",
    "\n",
    "<details>\n",
    "\n",
    "Because $\\tau_{m} = \\frac{C_{M}}{g_{L}} $ and $\\tau_{m} = C_{M}R_{L} $\n",
    "and by re-arranging\n",
    "``` python\n",
    "    eqs = \"\"\"   \n",
    "    dv/dt = ((El - ...) + I)/(...)\n",
    "    I : volt\n",
    "    \"\"\"\n",
    "```\n",
    "\n",
    "</details>\n",
    "\n",
    "\n",
    "## <summary> brian2 code hint 3</summary>\n",
    "\n",
    "\n",
    "<details>\n",
    "\n",
    "``` python\n",
    "eqs = '''   \n",
    "dv/dt= ((El - v) + I/gl)*1/tau : volt\n",
    "I : amp\n",
    "'''\n",
    "```\n",
    "</details>"
   ]
  },
  {
   "cell_type": "code",
   "execution_count": null,
   "metadata": {
    "id": "8LGijXqGj4OI"
   },
   "outputs": [],
   "source": [
    "# Create function that creates a neuron and plots its behavior based on the given parameters\n",
    "def stimulate_and_plot_lif_neuron(I_ext, tau, e_leak, v_thresh):\n",
    "    # Start the scope for the brian2 toolbox to register all neurons that are created\n",
    "    start_scope()\n",
    "    # Define the neuron\n",
    "    neuron = create_lif_neuron(v_thresh)\n",
    "    # Set neuron parameters\n",
    "    tau = tau*ms;\n",
    "    El = -e_leak*mV\n",
    "    gl = 1.*nS\n",
    "\n",
    "    # Start monitoring the neurons state\n",
    "    statemon = StateMonitor(source = neuron, variables = ['v', 'I'], record = 0)\n",
    "    # Start monitoring spiking behavior\n",
    "    spikemon = SpikeMonitor(source = neuron, variables= 'v')\n",
    "    # Run neuron simulation for 100ms without input\n",
    "\n",
    "    neuron.I = 0 * pA\n",
    "    run(100*ms)\n",
    "    # Set input current to neuron\n",
    "    neuron.I = I_ext * pA\n",
    "    # Run 500ms with input\n",
    "    run(500*ms)\n",
    "    # Remove input current to neuron\n",
    "    neuron.I = 0 * pA\n",
    "    # Run neuron simulation for 100ms without input\n",
    "    run(100*ms)\n",
    "    # Plot results\n",
    "    plot_single_neuron(x = statemon.t/ms, neuron_data = [statemon.v[0]/mV],\n",
    "                     neuron_labels = ['Membrane Potential'], \\\n",
    "                     neuron_colors = ['steelblue'], \\\n",
    "                     spikes = spikemon.t/ms, spike_color = 'red', \\\n",
    "                     input_current = statemon.I[0]/mV, input_label = 'Input Current', input_color = 'gold', \\\n",
    "                     y_range = [-90,0], title = 'Leaky Integrate-and-Fire Neuron', x_axis_label = 'Time (ms)', \\\n",
    "                     y_axis_label = 'Membrane Potential', input_axis_label = 'Input Current', hline = v_thresh)"
   ]
  },
  {
   "cell_type": "code",
   "execution_count": null,
   "metadata": {
    "id": "fARjMTpPj1lq"
   },
   "outputs": [],
   "source": [
    "def reset_lif(name):\n",
    "    I_ext_slider.value = I_ext_def\n",
    "    tau_slider.value = tau_def\n",
    "    e_leak_slider.value = e_leak_def"
   ]
  },
  {
   "cell_type": "markdown",
   "metadata": {
    "id": "lPldFP_kQKTz",
    "tags": []
   },
   "source": [
    "#  Questions\n",
    "* What will be the response of the neuron to applying increasing current amplitude?\n",
    "* It is not a natural simulation to apply electrode current to neuronal tissue. What natural conditions is the electrode current a substitute for in the model?\n",
    "* What does changing E-leak do?\n",
    "* What does changing $\\tau_{M}$ do?"
   ]
  },
  {
   "cell_type": "code",
   "execution_count": null,
   "metadata": {
    "colab": {
     "base_uri": "https://localhost:8080/",
     "height": 534,
     "referenced_widgets": [
      "fd6ea4388a814340b38a1125ff78f737",
      "d0cd53919a2d4ea4bf8494d5778a84f0",
      "a1031b351c0a436b9b66572f16ba91a0",
      "376a9b1ff6ab442d8b46895dbb622d26",
      "fc38849bafc24ee0958e540680a20cbe",
      "8a7d207d7bf948df8f39ae6f5a4dc139",
      "c4301bba3ddf4f9d9cd9add42defa452",
      "d8bb6e390e54481aa3e8e0dfd00b7ad9",
      "5272505f2fb0417f934d02603adb7671",
      "e5bdc887853749ffa90b476cd3aaf8ae",
      "13151c8cc0bf458fa6956680daa63398",
      "7ac4bfd10b5a4e4bb072c3524057fd28",
      "64afd6534a334712b2ead69550db4c1d",
      "e18c965e1d8745419aa65781db8233cf",
      "dca8a1866ee5444fbb73a3843affd073",
      "4929661aa2434d83ab6e2d580afbcbc0",
      "40e6df5059974a68ae11b0a50bbae1a8",
      "6a27f09e0e9f4ac88b22e5a16d09b829"
     ]
    },
    "id": "FkUXDqrXBwEh",
    "outputId": "d8f07c05-e400-4731-ebcf-4a16c162b460"
   },
   "outputs": [],
   "source": [
    "# Set default parameters\n",
    "I_ext_def = 27.\n",
    "tau_def = 20.\n",
    "e_leak_def = 66.\n",
    "\n",
    "# Create sliders for neuron parameters\n",
    "tau_slider = widgets.FloatSlider(value = tau_def, min = 1., max = 30., step = 0.5,\n",
    "                                 description = 'Charging modulation tau:',\n",
    "                                 readout_format = '.1f', continuous_update = False,\n",
    "                                 layout = {'width': slider_total_width}, style = {'description_width': slider_desc_width})\n",
    "e_leak_slider = widgets.FloatSlider(value = e_leak_def, min = 0., max = 85., step = 1,\n",
    "                                    description = 'Leakage E_leak:',\n",
    "                                    readout_format = '.1f', continuous_update = False,\n",
    "                                    layout = {'width': slider_total_width}, style = {'description_width': slider_desc_width})\n",
    "\n",
    "# Create slider for input current\n",
    "I_ext_slider = widgets.FloatSlider(value = I_ext_def, min = 0., max = 90., step = 0.25,\n",
    "                                   description = 'Input current I:', readout_format = '.1f',\n",
    "                                   continuous_update = False, layout = {'width': slider_total_width},\n",
    "                                   style = {'description_width': slider_desc_width})\n",
    "\n",
    "# Make interactive widget for function above with the given sliders\n",
    "main_widgets = interactive(stimulate_and_plot_lif_neuron, I_ext = I_ext_slider, tau = tau_slider, e_leak = e_leak_slider, v_thresh = fixed(-40))\n",
    "\n",
    "\n",
    "# Reset button\n",
    "reset_button = widgets.Button(description='Reset', layout = button_layout)\n",
    "reset_button.on_click(reset_lif)\n",
    "\n",
    "# Display main widgets and reset button\n",
    "display(VBox(children=[reset_button, main_widgets]))"
   ]
  },
  {
   "cell_type": "markdown",
   "metadata": {
    "id": "QOPXqL-C0Afp"
   },
   "source": [
    "This is what is known as a \"regular spiking\" neuron/model behavior. Other behaviors such as \"bursting\" are possible with different models and model parameterisations. (e.g. see Izhikevich model)\n",
    "\n",
    "<img src='https://www.izhikevich.org/publications/izhik.gif'>\n",
    "Source: www.izhikevich.org"
   ]
  },
  {
   "cell_type": "markdown",
   "metadata": {
    "id": "D767li7IL3jM"
   },
   "source": [
    "# Evaluating models"
   ]
  },
  {
   "cell_type": "markdown",
   "metadata": {
    "id": "UEy6HByCv0II"
   },
   "source": [
    "<img src=\"https://github.com/russelljjarvis/LIF_DE_Brian2/blob/main/other_lecture/simulation_spike_time_mismatch.png?raw=1\" width=\"450\" height=\"350\" />"
   ]
  },
  {
   "cell_type": "code",
   "execution_count": null,
   "metadata": {
    "id": "jGcwHK5IzQCB"
   },
   "outputs": [],
   "source": [
    "# Create function that creates a neuron and plots its behavior based on the given parameters\n",
    "def create_and_return_brian_neuron_recordings(I_ext, tau, e_leak, v_thresh):\n",
    "    # Start the scope for the brian2 toolbox to register all neurons that are created\n",
    "    start_scope()\n",
    "    # Define the neuron\n",
    "    neuron = create_lif_neuron(v_thresh)\n",
    "    # Set neuron parameters\n",
    "    tau = tau*ms;\n",
    "    El = -e_leak*mV\n",
    "\n",
    "    gl = 1.*nS\n",
    "\n",
    "    # Start monitoring the neurons state\n",
    "    statemon = StateMonitor(source = neuron, variables = ['v', 'I'], record = 0)\n",
    "    # Start monitoring spiking behavior\n",
    "    spikemon = SpikeMonitor(source = neuron, variables= 'v')\n",
    "    # Run neuron simulation for 100ms without input\n",
    "    run(1000*ms)\n",
    "    # Set input current to neuron\n",
    "    neuron.I = I_ext * pA\n",
    "    # Run 500ms with input\n",
    "    run(1000*ms)\n",
    "    # Remove input current to neuron\n",
    "    neuron.I = 0 * pA\n",
    "    # Run neuron simulation for 100ms without input\n",
    "    run(2000*ms)\n",
    "    # return simulation results\n",
    "\n",
    "    return (statemon.t/ms, statemon.v[0]/mV, spikemon.t/ms, statemon.I[0]/mV)"
   ]
  },
  {
   "cell_type": "code",
   "execution_count": null,
   "metadata": {
    "id": "WxjtLeKfn9Rf"
   },
   "outputs": [],
   "source": [
    "# Instantiate the CellTypesCache instance.  The manifest_file argument\n",
    "# tells it where to store the manifest, which is a JSON file that tracks\n",
    "# file paths.  If you supply a relative path it will go into your\n",
    "# current working directory\n",
    "def get_sweep(sweep_number = 29,speciment_id=464212183):\n",
    "  # Set the default parameters\n",
    "  I_ext = 9.\n",
    "  tau = 20.\n",
    "  e_leak = 59.\n",
    "  v_max = -50\n",
    "  plot_out = create_and_return_brian_neuron_recordings(I_ext, tau, e_leak, v_max)\n",
    "\n",
    "  ''' Extract models from database '''\n",
    "  ctc = CellTypesCache()\n",
    "\n",
    "  # this saves the NWB file to 'cell_types/specimen_464212183/ephys.nwb'\n",
    "  cell_specimen_id = 464212183\n",
    "  data_set = ctc.get_ephys_data(speciment_id)\n",
    "  sweep_data = data_set.get_sweep(sweep_number)\n",
    "\n",
    "  index_range = sweep_data[\"index_range\"]\n",
    "  i = sweep_data[\"stimulus\"][0:index_range[1]+1] # in A\n",
    "  v = sweep_data[\"response\"][0:index_range[1]+1] # in V\n",
    "  i *= 1e12 # to pA\n",
    "  v *= 1e3  # to mV\n",
    "  i = i* qt.pA\n",
    "  v = v* qt.mV\n",
    "  _sampling_rate_ = sweep_data[\"sampling_rate\"] # in Hz\n",
    "  t = np.arange(0, len(v)) * (1.0 / _sampling_rate_)\n",
    "  sr = 2\n",
    "\n",
    "  rescale = (t[1]/plot_out[0][1])*2.0\n",
    "  rsv = []\n",
    "  r=0.0\n",
    "\n",
    "  # correct for different sampling frequencies.\n",
    "  for i in range(0,int(len(plot_out[1]))):\n",
    "    r = r+rescale\n",
    "    rsv.append(r)\n",
    "\n",
    "  ''' Process simulation data '''\n",
    "  spike_times = plot_out[2]\n",
    "  st = [t/1000.0 for t in spike_times]\n",
    "  fig, axes = plt.subplots(1, 1, sharex=True,figsize=(10, 8), dpi=80)\n",
    "  axes.set_ylabel(\"mV\")\n",
    "  axes.set_xlabel(\"seconds\")\n",
    "  plt.plot(t,v,label=\"current injection in pA {0} Sampling frequenccy in kHz {1}\".format(np.max(sweep_data[\"stimulus\"][0:index_range[1]+1]),_sampling_rate_/1e3))\n",
    "  plt.legend(loc=\"upper left\")\n",
    "\n",
    "  v_model = plot_out[1]\n",
    "  t_model = plot_out[0]\n",
    "  return (t,v,st,rsv,v_model,t_model)"
   ]
  },
  {
   "cell_type": "code",
   "execution_count": null,
   "metadata": {
    "colab": {
     "base_uri": "https://localhost:8080/",
     "height": 566
    },
    "id": "DuZL12io8LCx",
    "outputId": "9650c779-40a4-4007-8ca1-ee1945c71652"
   },
   "outputs": [],
   "source": [
    "t,v_data,st,rsv,v_model,t_model = get_sweep(sweep_number = 31)"
   ]
  },
  {
   "cell_type": "code",
   "execution_count": null,
   "metadata": {
    "colab": {
     "base_uri": "https://localhost:8080/",
     "height": 542
    },
    "id": "KOqJHwTVevO1",
    "outputId": "bbebd15f-660a-4676-b780-33805f629340"
   },
   "outputs": [],
   "source": [
    "data = []\n",
    "data.append(go.Scatter(x=rsv,y=v_model))\n",
    "data.append(go.Scatter(x=t,y=v_data))\n",
    "fig = go.Figure(data = data)\n",
    "for i in st:\n",
    "  fig.add_vline(x=i, line_width=3, line_dash=\"solid\", line_color=\"blue\")\n",
    "fig.show()\n"
   ]
  },
  {
   "cell_type": "markdown",
   "metadata": {
    "id": "vYDrPcYU59i5"
   },
   "source": [
    "* The plot compares the trace of a Leaky Integrate and Fire Neuron model (red) against real ephys data collected from a rodent (blue).\n",
    "* The Action Potential shape may still disagree with data.\n",
    "\n",
    "# Question\n",
    "* Which trace is biological, which trace is modelled?\n",
    "* How can we improve our model?\n",
    "* What metrics could you use to quantify the agreement/disagreement between the two?\n",
    "* Do you think the agreement is acceptable?\n",
    "* What is the least realistic part of the LIF $V_{m}$ shape?\n",
    "* What should be the real units of $V_{m}$?\n",
    "* What should be the the real resting membrane potential $V_{R}$?"
   ]
  },
  {
   "cell_type": "markdown",
   "metadata": {
    "id": "2Hqaa2RGLoJ9",
    "tags": []
   },
   "source": [
    "# Synaptic connections\n",
    "Electrical current caused by neurotransmitter release can be modelled as $$I_{syn}=g_{syn}(t)(V(t)-E_{syn}).$$\n",
    "\n",
    "There are different ways of describing the conductance change, $g_{syn}(t)$ in this case:\n",
    "* $g_{syn}(t)=\\bar{g}_{syn}e^{-\\frac{t-t_s}{\\tau}}$\n",
    "* $g_{NMDA}(t)=\\bar{g}_{syn}\\frac{e^{−(t−t_s)/\\tau_1}-e^{−(t−t_s)/\\tau_2}}{1+\\mu[Mg^{2+}]e^{-\\gamma V}}$\n",
    "\n",
    "## A simplification for our LIF model\n",
    "$$I_{syn}(t)=\\bar{I}_{syn}e^{-\\frac{t-t_s}{\\tau_{syn}}}$$\n",
    "How can we implement this with Brian2?\n",
    "<details>\n",
    "$\\tau_{syn}\\frac{dI_{syn}}{dt} = −I_{syn}$\n",
    "</details>"
   ]
  },
  {
   "cell_type": "code",
   "execution_count": null,
   "metadata": {
    "id": "Tm8WEYWnLoJ_"
   },
   "outputs": [],
   "source": [
    "# Setting parameters\n",
    "taum = 20*ms # time constant of membrane potential\n",
    "taue = 5*ms  # time constant of excitatory current\n",
    "taui = 10*ms # time constant of inhibitory current\n",
    "Vt = -50*mV  # threshold\n",
    "Vr = -60*mV  # reset value\n",
    "El = -49*mV  # resting potential\n",
    "\n",
    "# Add the currents to the model describition below\n",
    "eqs = '''\n",
    "dv/dt  = ( +  - (v - El))/taum : volt (unless refractory)\n",
    "\n",
    "\n",
    "'''\n",
    "\n",
    "P = NeuronGroup(4000, eqs, threshold='v > Vt', reset='v = Vr', refractory=5*ms,\n",
    "                method='euler')\n",
    "P.v = 'Vr + rand() * (Vt - Vr)'\n",
    "P.ge = 0*mV\n",
    "P.gi = 0*mV\n",
    "\n",
    "we = (60*0.27/10)*mV # excitatory synaptic weight (voltage)\n",
    "wi = (-20*4.5/10)*mV # inhibitory synaptic weight\n",
    "Ce = Synapses(P, P, on_pre='ge += we')\n",
    "Ci = Synapses(P, P, on_pre='gi += wi')\n",
    "Ce.connect('i<3200', p=0.02)\n",
    "Ci.connect('i>=3200', p=0.02)\n",
    "\n",
    "s_mon = SpikeMonitor(P)\n",
    "\n",
    "run(1 * second)\n",
    "\n",
    "plot(s_mon.t/ms, s_mon.i, ',k')\n",
    "xlabel('Time (ms)')\n",
    "ylabel('Neuron index')\n",
    "show()"
   ]
  },
  {
   "cell_type": "markdown",
   "metadata": {
    "id": "U3_inBx2LoJ_"
   },
   "source": [
    "# Questions\n",
    "* Why is the neurons in this network spiking?\n",
    "* What does it mean to have positive synaptic weights? And negative?\n",
    "* What happens when we double excitatory weights? And negative?"
   ]
  },
  {
   "cell_type": "markdown",
   "metadata": {
    "id": "Mgke7d3jPFE4"
   },
   "source": [
    "# End of Tutorial.\n",
    "## Are there any questions?"
   ]
  }
 ],
 "metadata": {
  "celltoolbar": "Slideshow",
  "colab": {
   "name": "_Brian2DiffEquations_.ipynb",
   "provenance": []
  },
  "kernelspec": {
   "display_name": "Python 3 (ipykernel)",
   "language": "python",
   "name": "python3"
  },
  "language_info": {
   "codemirror_mode": {
    "name": "ipython",
    "version": 3
   },
   "file_extension": ".py",
   "mimetype": "text/x-python",
   "name": "python",
   "nbconvert_exporter": "python",
   "pygments_lexer": "ipython3",
   "version": "3.9.6"
  },
  "widgets": {
   "application/vnd.jupyter.widget-state+json": {
    "13151c8cc0bf458fa6956680daa63398": {
     "model_module": "@jupyter-widgets/base",
     "model_module_version": "1.2.0",
     "model_name": "LayoutModel",
     "state": {
      "_model_module": "@jupyter-widgets/base",
      "_model_module_version": "1.2.0",
      "_model_name": "LayoutModel",
      "_view_count": null,
      "_view_module": "@jupyter-widgets/base",
      "_view_module_version": "1.2.0",
      "_view_name": "LayoutView",
      "align_content": null,
      "align_items": null,
      "align_self": null,
      "border": null,
      "bottom": null,
      "display": null,
      "flex": null,
      "flex_flow": null,
      "grid_area": null,
      "grid_auto_columns": null,
      "grid_auto_flow": null,
      "grid_auto_rows": null,
      "grid_column": null,
      "grid_gap": null,
      "grid_row": null,
      "grid_template_areas": null,
      "grid_template_columns": null,
      "grid_template_rows": null,
      "height": null,
      "justify_content": null,
      "justify_items": null,
      "left": null,
      "margin": null,
      "max_height": null,
      "max_width": null,
      "min_height": null,
      "min_width": null,
      "object_fit": null,
      "object_position": null,
      "order": null,
      "overflow": null,
      "overflow_x": null,
      "overflow_y": null,
      "padding": null,
      "right": null,
      "top": null,
      "visibility": null,
      "width": null
     }
    },
    "376a9b1ff6ab442d8b46895dbb622d26": {
     "model_module": "@jupyter-widgets/base",
     "model_module_version": "1.2.0",
     "model_name": "LayoutModel",
     "state": {
      "_model_module": "@jupyter-widgets/base",
      "_model_module_version": "1.2.0",
      "_model_name": "LayoutModel",
      "_view_count": null,
      "_view_module": "@jupyter-widgets/base",
      "_view_module_version": "1.2.0",
      "_view_name": "LayoutView",
      "align_content": null,
      "align_items": null,
      "align_self": null,
      "border": null,
      "bottom": null,
      "display": null,
      "flex": null,
      "flex_flow": null,
      "grid_area": null,
      "grid_auto_columns": null,
      "grid_auto_flow": null,
      "grid_auto_rows": null,
      "grid_column": null,
      "grid_gap": null,
      "grid_row": null,
      "grid_template_areas": null,
      "grid_template_columns": null,
      "grid_template_rows": null,
      "height": null,
      "justify_content": null,
      "justify_items": null,
      "left": null,
      "margin": null,
      "max_height": null,
      "max_width": null,
      "min_height": null,
      "min_width": null,
      "object_fit": null,
      "object_position": null,
      "order": null,
      "overflow": null,
      "overflow_x": null,
      "overflow_y": null,
      "padding": null,
      "right": null,
      "top": null,
      "visibility": null,
      "width": null
     }
    },
    "40e6df5059974a68ae11b0a50bbae1a8": {
     "model_module": "@jupyter-widgets/controls",
     "model_module_version": "1.5.0",
     "model_name": "SliderStyleModel",
     "state": {
      "_model_module": "@jupyter-widgets/controls",
      "_model_module_version": "1.5.0",
      "_model_name": "SliderStyleModel",
      "_view_count": null,
      "_view_module": "@jupyter-widgets/base",
      "_view_module_version": "1.2.0",
      "_view_name": "StyleView",
      "description_width": "200px",
      "handle_color": null
     }
    },
    "4929661aa2434d83ab6e2d580afbcbc0": {
     "model_module": "@jupyter-widgets/base",
     "model_module_version": "1.2.0",
     "model_name": "LayoutModel",
     "state": {
      "_model_module": "@jupyter-widgets/base",
      "_model_module_version": "1.2.0",
      "_model_name": "LayoutModel",
      "_view_count": null,
      "_view_module": "@jupyter-widgets/base",
      "_view_module_version": "1.2.0",
      "_view_name": "LayoutView",
      "align_content": null,
      "align_items": null,
      "align_self": null,
      "border": null,
      "bottom": null,
      "display": null,
      "flex": null,
      "flex_flow": null,
      "grid_area": null,
      "grid_auto_columns": null,
      "grid_auto_flow": null,
      "grid_auto_rows": null,
      "grid_column": null,
      "grid_gap": null,
      "grid_row": null,
      "grid_template_areas": null,
      "grid_template_columns": null,
      "grid_template_rows": null,
      "height": null,
      "justify_content": null,
      "justify_items": null,
      "left": null,
      "margin": null,
      "max_height": null,
      "max_width": null,
      "min_height": null,
      "min_width": null,
      "object_fit": null,
      "object_position": null,
      "order": null,
      "overflow": null,
      "overflow_x": null,
      "overflow_y": null,
      "padding": null,
      "right": null,
      "top": null,
      "visibility": null,
      "width": "800px"
     }
    },
    "5272505f2fb0417f934d02603adb7671": {
     "model_module": "@jupyter-widgets/controls",
     "model_module_version": "1.5.0",
     "model_name": "FloatSliderModel",
     "state": {
      "_dom_classes": [],
      "_model_module": "@jupyter-widgets/controls",
      "_model_module_version": "1.5.0",
      "_model_name": "FloatSliderModel",
      "_view_count": null,
      "_view_module": "@jupyter-widgets/controls",
      "_view_module_version": "1.5.0",
      "_view_name": "FloatSliderView",
      "continuous_update": false,
      "description": "Leakage E_leak:",
      "description_tooltip": null,
      "disabled": false,
      "layout": "IPY_MODEL_4929661aa2434d83ab6e2d580afbcbc0",
      "max": 85,
      "min": 0,
      "orientation": "horizontal",
      "readout": true,
      "readout_format": ".1f",
      "step": 1,
      "style": "IPY_MODEL_40e6df5059974a68ae11b0a50bbae1a8",
      "value": 66
     }
    },
    "64afd6534a334712b2ead69550db4c1d": {
     "model_module": "@jupyter-widgets/controls",
     "model_module_version": "1.5.0",
     "model_name": "SliderStyleModel",
     "state": {
      "_model_module": "@jupyter-widgets/controls",
      "_model_module_version": "1.5.0",
      "_model_name": "SliderStyleModel",
      "_view_count": null,
      "_view_module": "@jupyter-widgets/base",
      "_view_module_version": "1.2.0",
      "_view_name": "StyleView",
      "description_width": "200px",
      "handle_color": null
     }
    },
    "6a27f09e0e9f4ac88b22e5a16d09b829": {
     "model_module": "@jupyter-widgets/base",
     "model_module_version": "1.2.0",
     "model_name": "LayoutModel",
     "state": {
      "_model_module": "@jupyter-widgets/base",
      "_model_module_version": "1.2.0",
      "_model_name": "LayoutModel",
      "_view_count": null,
      "_view_module": "@jupyter-widgets/base",
      "_view_module_version": "1.2.0",
      "_view_name": "LayoutView",
      "align_content": null,
      "align_items": null,
      "align_self": null,
      "border": null,
      "bottom": null,
      "display": null,
      "flex": null,
      "flex_flow": null,
      "grid_area": null,
      "grid_auto_columns": null,
      "grid_auto_flow": null,
      "grid_auto_rows": null,
      "grid_column": null,
      "grid_gap": null,
      "grid_row": null,
      "grid_template_areas": null,
      "grid_template_columns": null,
      "grid_template_rows": null,
      "height": null,
      "justify_content": null,
      "justify_items": null,
      "left": null,
      "margin": null,
      "max_height": null,
      "max_width": null,
      "min_height": null,
      "min_width": null,
      "object_fit": null,
      "object_position": null,
      "order": null,
      "overflow": null,
      "overflow_x": null,
      "overflow_y": null,
      "padding": null,
      "right": null,
      "top": null,
      "visibility": null,
      "width": null
     }
    },
    "7ac4bfd10b5a4e4bb072c3524057fd28": {
     "model_module": "@jupyter-widgets/base",
     "model_module_version": "1.2.0",
     "model_name": "LayoutModel",
     "state": {
      "_model_module": "@jupyter-widgets/base",
      "_model_module_version": "1.2.0",
      "_model_name": "LayoutModel",
      "_view_count": null,
      "_view_module": "@jupyter-widgets/base",
      "_view_module_version": "1.2.0",
      "_view_name": "LayoutView",
      "align_content": null,
      "align_items": null,
      "align_self": null,
      "border": null,
      "bottom": null,
      "display": null,
      "flex": null,
      "flex_flow": null,
      "grid_area": null,
      "grid_auto_columns": null,
      "grid_auto_flow": null,
      "grid_auto_rows": null,
      "grid_column": null,
      "grid_gap": null,
      "grid_row": null,
      "grid_template_areas": null,
      "grid_template_columns": null,
      "grid_template_rows": null,
      "height": null,
      "justify_content": null,
      "justify_items": null,
      "left": null,
      "margin": null,
      "max_height": null,
      "max_width": null,
      "min_height": null,
      "min_width": null,
      "object_fit": null,
      "object_position": null,
      "order": null,
      "overflow": null,
      "overflow_x": null,
      "overflow_y": null,
      "padding": null,
      "right": null,
      "top": null,
      "visibility": null,
      "width": "800px"
     }
    },
    "8a7d207d7bf948df8f39ae6f5a4dc139": {
     "model_module": "@jupyter-widgets/controls",
     "model_module_version": "1.5.0",
     "model_name": "ButtonStyleModel",
     "state": {
      "_model_module": "@jupyter-widgets/controls",
      "_model_module_version": "1.5.0",
      "_model_name": "ButtonStyleModel",
      "_view_count": null,
      "_view_module": "@jupyter-widgets/base",
      "_view_module_version": "1.2.0",
      "_view_name": "StyleView",
      "button_color": null,
      "font_weight": ""
     }
    },
    "a1031b351c0a436b9b66572f16ba91a0": {
     "model_module": "@jupyter-widgets/controls",
     "model_module_version": "1.5.0",
     "model_name": "VBoxModel",
     "state": {
      "_dom_classes": [
       "widget-interact"
      ],
      "_model_module": "@jupyter-widgets/controls",
      "_model_module_version": "1.5.0",
      "_model_name": "VBoxModel",
      "_view_count": null,
      "_view_module": "@jupyter-widgets/controls",
      "_view_module_version": "1.5.0",
      "_view_name": "VBoxView",
      "box_style": "",
      "children": [
       "IPY_MODEL_c4301bba3ddf4f9d9cd9add42defa452",
       "IPY_MODEL_d8bb6e390e54481aa3e8e0dfd00b7ad9",
       "IPY_MODEL_5272505f2fb0417f934d02603adb7671",
       "IPY_MODEL_e5bdc887853749ffa90b476cd3aaf8ae"
      ],
      "layout": "IPY_MODEL_13151c8cc0bf458fa6956680daa63398"
     }
    },
    "c4301bba3ddf4f9d9cd9add42defa452": {
     "model_module": "@jupyter-widgets/controls",
     "model_module_version": "1.5.0",
     "model_name": "FloatSliderModel",
     "state": {
      "_dom_classes": [],
      "_model_module": "@jupyter-widgets/controls",
      "_model_module_version": "1.5.0",
      "_model_name": "FloatSliderModel",
      "_view_count": null,
      "_view_module": "@jupyter-widgets/controls",
      "_view_module_version": "1.5.0",
      "_view_name": "FloatSliderView",
      "continuous_update": false,
      "description": "Input current I:",
      "description_tooltip": null,
      "disabled": false,
      "layout": "IPY_MODEL_7ac4bfd10b5a4e4bb072c3524057fd28",
      "max": 90,
      "min": 0,
      "orientation": "horizontal",
      "readout": true,
      "readout_format": ".1f",
      "step": 0.25,
      "style": "IPY_MODEL_64afd6534a334712b2ead69550db4c1d",
      "value": 27
     }
    },
    "d0cd53919a2d4ea4bf8494d5778a84f0": {
     "model_module": "@jupyter-widgets/controls",
     "model_module_version": "1.5.0",
     "model_name": "ButtonModel",
     "state": {
      "_dom_classes": [],
      "_model_module": "@jupyter-widgets/controls",
      "_model_module_version": "1.5.0",
      "_model_name": "ButtonModel",
      "_view_count": null,
      "_view_module": "@jupyter-widgets/controls",
      "_view_module_version": "1.5.0",
      "_view_name": "ButtonView",
      "button_style": "",
      "description": "Reset",
      "disabled": false,
      "icon": "",
      "layout": "IPY_MODEL_fc38849bafc24ee0958e540680a20cbe",
      "style": "IPY_MODEL_8a7d207d7bf948df8f39ae6f5a4dc139",
      "tooltip": ""
     }
    },
    "d8bb6e390e54481aa3e8e0dfd00b7ad9": {
     "model_module": "@jupyter-widgets/controls",
     "model_module_version": "1.5.0",
     "model_name": "FloatSliderModel",
     "state": {
      "_dom_classes": [],
      "_model_module": "@jupyter-widgets/controls",
      "_model_module_version": "1.5.0",
      "_model_name": "FloatSliderModel",
      "_view_count": null,
      "_view_module": "@jupyter-widgets/controls",
      "_view_module_version": "1.5.0",
      "_view_name": "FloatSliderView",
      "continuous_update": false,
      "description": "Charging modulation tau:",
      "description_tooltip": null,
      "disabled": false,
      "layout": "IPY_MODEL_e18c965e1d8745419aa65781db8233cf",
      "max": 30,
      "min": 1,
      "orientation": "horizontal",
      "readout": true,
      "readout_format": ".1f",
      "step": 0.5,
      "style": "IPY_MODEL_dca8a1866ee5444fbb73a3843affd073",
      "value": 20
     }
    },
    "dca8a1866ee5444fbb73a3843affd073": {
     "model_module": "@jupyter-widgets/controls",
     "model_module_version": "1.5.0",
     "model_name": "SliderStyleModel",
     "state": {
      "_model_module": "@jupyter-widgets/controls",
      "_model_module_version": "1.5.0",
      "_model_name": "SliderStyleModel",
      "_view_count": null,
      "_view_module": "@jupyter-widgets/base",
      "_view_module_version": "1.2.0",
      "_view_name": "StyleView",
      "description_width": "200px",
      "handle_color": null
     }
    },
    "e18c965e1d8745419aa65781db8233cf": {
     "model_module": "@jupyter-widgets/base",
     "model_module_version": "1.2.0",
     "model_name": "LayoutModel",
     "state": {
      "_model_module": "@jupyter-widgets/base",
      "_model_module_version": "1.2.0",
      "_model_name": "LayoutModel",
      "_view_count": null,
      "_view_module": "@jupyter-widgets/base",
      "_view_module_version": "1.2.0",
      "_view_name": "LayoutView",
      "align_content": null,
      "align_items": null,
      "align_self": null,
      "border": null,
      "bottom": null,
      "display": null,
      "flex": null,
      "flex_flow": null,
      "grid_area": null,
      "grid_auto_columns": null,
      "grid_auto_flow": null,
      "grid_auto_rows": null,
      "grid_column": null,
      "grid_gap": null,
      "grid_row": null,
      "grid_template_areas": null,
      "grid_template_columns": null,
      "grid_template_rows": null,
      "height": null,
      "justify_content": null,
      "justify_items": null,
      "left": null,
      "margin": null,
      "max_height": null,
      "max_width": null,
      "min_height": null,
      "min_width": null,
      "object_fit": null,
      "object_position": null,
      "order": null,
      "overflow": null,
      "overflow_x": null,
      "overflow_y": null,
      "padding": null,
      "right": null,
      "top": null,
      "visibility": null,
      "width": "800px"
     }
    },
    "e5bdc887853749ffa90b476cd3aaf8ae": {
     "model_module": "@jupyter-widgets/output",
     "model_module_version": "1.0.0",
     "model_name": "OutputModel",
     "state": {
      "_dom_classes": [],
      "_model_module": "@jupyter-widgets/output",
      "_model_module_version": "1.0.0",
      "_model_name": "OutputModel",
      "_view_count": null,
      "_view_module": "@jupyter-widgets/output",
      "_view_module_version": "1.0.0",
      "_view_name": "OutputView",
      "layout": "IPY_MODEL_6a27f09e0e9f4ac88b22e5a16d09b829",
      "msg_id": "",
      "outputs": [
       {
        "data": {
         "image/png": "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\n",
         "text/plain": "<Figure size 1008x432 with 2 Axes>"
        },
        "metadata": {},
        "output_type": "display_data"
       }
      ]
     }
    },
    "fc38849bafc24ee0958e540680a20cbe": {
     "model_module": "@jupyter-widgets/base",
     "model_module_version": "1.2.0",
     "model_name": "LayoutModel",
     "state": {
      "_model_module": "@jupyter-widgets/base",
      "_model_module_version": "1.2.0",
      "_model_name": "LayoutModel",
      "_view_count": null,
      "_view_module": "@jupyter-widgets/base",
      "_view_module_version": "1.2.0",
      "_view_name": "LayoutView",
      "align_content": null,
      "align_items": null,
      "align_self": null,
      "border": null,
      "bottom": null,
      "display": null,
      "flex": null,
      "flex_flow": null,
      "grid_area": null,
      "grid_auto_columns": null,
      "grid_auto_flow": null,
      "grid_auto_rows": null,
      "grid_column": null,
      "grid_gap": null,
      "grid_row": null,
      "grid_template_areas": null,
      "grid_template_columns": null,
      "grid_template_rows": null,
      "height": "30px",
      "justify_content": null,
      "justify_items": null,
      "left": null,
      "margin": null,
      "max_height": null,
      "max_width": null,
      "min_height": null,
      "min_width": null,
      "object_fit": null,
      "object_position": null,
      "order": null,
      "overflow": null,
      "overflow_x": null,
      "overflow_y": null,
      "padding": null,
      "right": null,
      "top": null,
      "visibility": null,
      "width": "180px"
     }
    },
    "fd6ea4388a814340b38a1125ff78f737": {
     "model_module": "@jupyter-widgets/controls",
     "model_module_version": "1.5.0",
     "model_name": "VBoxModel",
     "state": {
      "_dom_classes": [],
      "_model_module": "@jupyter-widgets/controls",
      "_model_module_version": "1.5.0",
      "_model_name": "VBoxModel",
      "_view_count": null,
      "_view_module": "@jupyter-widgets/controls",
      "_view_module_version": "1.5.0",
      "_view_name": "VBoxView",
      "box_style": "",
      "children": [
       "IPY_MODEL_d0cd53919a2d4ea4bf8494d5778a84f0",
       "IPY_MODEL_a1031b351c0a436b9b66572f16ba91a0"
      ],
      "layout": "IPY_MODEL_376a9b1ff6ab442d8b46895dbb622d26"
     }
    }
   }
  }
 },
 "nbformat": 4,
 "nbformat_minor": 4
}
